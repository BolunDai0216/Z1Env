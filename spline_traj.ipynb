{
 "cells": [
  {
   "cell_type": "code",
   "execution_count": 1,
   "id": "e62d806c-b5a3-411d-b5f5-1635031a71fa",
   "metadata": {},
   "outputs": [],
   "source": [
    "import numpy as np\n",
    "import matplotlib.pyplot as plt\n"
   ]
  },
  {
   "cell_type": "code",
   "execution_count": 2,
   "id": "a95e961d-7671-4862-b617-5bba8d78f309",
   "metadata": {},
   "outputs": [],
   "source": [
    "# X = np.array([[a1 , a2,  a3 , a4 , a5 , a6]\n",
    "#               [b1 , b2 , b3 , b4 , b5 , b6]\n",
    "#               [c1 , c2 , c3 , c4 , c5 , c6] \n",
    "#               [d1 , d2 , d3 , d4 , d5 , d6] \n",
    "#               [e1 , e2 , e5 , e4 , e5 , e6]\n",
    "#               [f1 , f2 , f6 , f4 , f5 , f6]])\n",
    "\n",
    "# q =np.array([[0,0.671,-0.500,-0.144,0,0.235]])\n",
    "def get_const(q):\n",
    "    t = 6\n",
    "    X = np.zeros((6,6))\n",
    "    A = np.array([[0,0,0,0,0,1] ,[t**5,t**4,t**3,t**2,t,1],[0,0,0,0,1,0],[5*(t**4),4*(t**3),3*(t**2),2*t,1,0],[0,0,0,1,0,0],[20*(t**3),12*(t**2),6*t,2,0,0]])    \n",
    "\n",
    "    q_initial = np.zeros((1,6))\n",
    "    vel_ = np.zeros((2,6))\n",
    "    acc_ = np.zeros((2,6))\n",
    "    B= np.concatenate([q_initial,q,vel_,acc_], axis= 0)\n",
    "    \n",
    "    A.shape,  B.shape\n",
    "    X = np.linalg.inv(A) @ B\n",
    "    return X\n",
    "# X = get_const(q)\n",
    "# print(X)\n",
    "# X[:,1]"
   ]
  },
  {
   "cell_type": "code",
   "execution_count": 55,
   "id": "c77f1aee-6be6-429d-be83-90dddefb7295",
   "metadata": {},
   "outputs": [],
   "source": [
    "def get_joint_angles(X, t):\n",
    "tp = np.array([[t**5] ,[ t**4] , [t**3] , [t**2] , [t] , [1]])\n",
    "# q = np.zeros((6,1))\n",
    "\n",
    "q = np.transpose(X) @ tp \n",
    "\n",
    "return np.reshape(q,(1,6))\n",
    "    \n",
    "def get_joint_vel(X, t):\n",
    "    tv = np.array([5*(t**4) , 4*(t**3) , 3*(t**2) , 2*t , 1 , 0])\n",
    "    # q_dot = np.zeros((6,1))\n",
    "    \n",
    "    q_dot = X @ tv  \n",
    "\n",
    "    return np.reshape(q_dot,(1,6))"
   ]
  },
  {
   "cell_type": "code",
   "execution_count": 12,
   "id": "b5a8d1a7-da85-4161-9fea-1ab0d34c5dca",
   "metadata": {},
   "outputs": [
    {
     "name": "stdout",
     "output_type": "stream",
     "text": [
      "[[ 0.          0.00051775 -0.0003858  -0.00011111  0.          0.00018133]\n",
      " [ 0.         -0.0077662   0.00578704  0.00166667  0.         -0.00271991]\n",
      " [ 0.          0.03106481 -0.02314815 -0.00666667  0.          0.01087963]\n",
      " [ 0.          0.          0.          0.          0.          0.        ]\n",
      " [ 0.          0.          0.          0.          0.          0.        ]\n",
      " [ 0.          0.          0.          0.          0.          0.        ]]\n"
     ]
    },
    {
     "data": {
      "text/plain": [
       "[<matplotlib.lines.Line2D at 0x7fe3db2216c0>]"
      ]
     },
     "execution_count": 12,
     "metadata": {},
     "output_type": "execute_result"
    },
    {
     "data": {
      "image/png": "[encoded data removed]",
      "text/plain": [
       "<Figure size 640x480 with 1 Axes>"
      ]
     },
     "metadata": {},
     "output_type": "display_data"
    }
   ],
   "source": [
    "q =np.array([[0,0.671,-0.500,-0.144,0,0.235]])\n",
    "X = get_const(q)\n",
    "print(X)\n",
    "t = np.linspace(0, 6, 100)\n",
    "q1 = X[0,0]*t**5 + X[1,0]*t**4 + X[2,0]*t**3 + X[3,0]*t**2 + X[4,0]*t + X[5,0]\n",
    "q2 = X[0,1]*t**5 + X[1,1]*t**4 + X[2,1]*t**3 + X[3,1]*t**2 + X[4,1]*t + X[5,1]\n",
    "q3 = X[0,2]*t**5 + X[1,2]*t**4 + X[2,2]*t**3 + X[3,2]*t**2 + X[4,2]*t + X[5,2]\n",
    "q4 = X[0,3]*t**5 + X[1,3]*t**4 + X[2,3]*t**3 + X[3,3]*t**2 + X[4,3]*t + X[5,3]\n",
    "q5 = X[0,4]*t**5 + X[1,4]*t**4 + X[2,4]*t**3 + X[3,4]*t**2 + X[4,4]*t + X[5,4]\n",
    "q6 = X[0,5]*t**5 + X[1,5]*t**4 + X[2,5]*t**3 + X[3,5]*t**2 + X[4,5]*t + X[5,5]\n",
    "q1.shape\n",
    "plt.plot(t,q1)\n",
    "plt.plot(t,q2)\n",
    "plt.plot(t,q3)\n",
    "plt.plot(t,q4)\n",
    "plt.plot(t,q6)\n",
    "plt.plot(t,q6)\n"
   ]
  },
  {
   "cell_type": "code",
   "execution_count": 59,
   "id": "9165b3eb-027b-4fca-91e5-c377fa7fc5f2",
   "metadata": {},
   "outputs": [
    {
     "data": {
      "text/plain": [
       "(5, 1)"
      ]
     },
     "execution_count": 59,
     "metadata": {},
     "output_type": "execute_result"
    }
   ],
   "source": [
    "t = np.linspace(0, 6, 100)\n",
    "tp = np.array([[1],[2],[3],[4],[5]])"
   ]
  },
  {
   "cell_type": "code",
   "execution_count": null,
   "id": "92a780b2-314e-4d0d-9fc8-d88c90918732",
   "metadata": {},
   "outputs": [],
   "source": []
  },
  {
   "cell_type": "code",
   "execution_count": null,
   "id": "85cd6519-59f1-4dc7-b2a3-7590b1e90d4f",
   "metadata": {},
   "outputs": [],
   "source": []
  }
 ],
 "metadata": {
  "kernelspec": {
   "display_name": "Python 3 (ipykernel)",
   "language": "python",
   "name": "python3"
  },
  "language_info": {
   "codemirror_mode": {
    "name": "ipython",
    "version": 3
   },
   "file_extension": ".py",
   "mimetype": "text/x-python",
   "name": "python",
   "nbconvert_exporter": "python",
   "pygments_lexer": "ipython3",
   "version": "3.10.12"
  }
 },
 "nbformat": 4,
 "nbformat_minor": 5
}
